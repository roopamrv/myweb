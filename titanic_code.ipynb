{
  "nbformat": 4,
  "nbformat_minor": 0,
  "metadata": {
    "kernelspec": {
      "display_name": "Python 3 (ipykernel)",
      "language": "python",
      "name": "python3"
    },
    "language_info": {
      "codemirror_mode": {
        "name": "ipython",
        "version": 3
      },
      "file_extension": ".py",
      "mimetype": "text/x-python",
      "name": "python",
      "nbconvert_exporter": "python",
      "pygments_lexer": "ipython3",
      "version": "3.9.7"
    },
    "colab": {
      "name": "titanic-code.ipynb",
      "provenance": [],
      "collapsed_sections": [],
      "include_colab_link": true
    }
  },
  "cells": [
    {
      "cell_type": "markdown",
      "metadata": {
        "id": "view-in-github",
        "colab_type": "text"
      },
      "source": [
        "<a href=\"https://colab.research.google.com/github/roopamrv/myweb/blob/main/titanic_code.ipynb\" target=\"_parent\"><img src=\"https://colab.research.google.com/assets/colab-badge.svg\" alt=\"Open In Colab\"/></a>"
      ]
    },
    {
      "cell_type": "markdown",
      "metadata": {
        "id": "QwvfwBtthQjf"
      },
      "source": [
        "# ***TITANIC PREDICTION***\n",
        "\n",
        "---\n",
        "\n",
        "\n",
        "\n",
        "In Kaggle Competitions The Titanic data set is a well known data set. The tutorial provided by Kaggle will be discussed in this blog for the Titanic data set, as well as some additional contributions using Logistic Regression, Random Forest Classifier with modules such as Scikit-Learn, Matplotlip, Numpy, Panda, etc.\n",
        "\n",
        "\n",
        "**All of the following code until the section marked “MY PREDICTION” was taken from https://www.kaggle.com/alexisbcook/titanic-tutorial for educational and learning purposes.**"
      ]
    },
    {
      "cell_type": "code",
      "metadata": {
        "_cell_guid": "b1076dfc-b9ad-4769-8c92-a6c4dae69d19",
        "_uuid": "8f2839f25d086af736a60e9eeb907d3b93b6e0e5",
        "execution": {
          "iopub.execute_input": "2021-09-27T23:13:41.375643Z",
          "iopub.status.busy": "2021-09-27T23:13:41.374617Z",
          "iopub.status.idle": "2021-09-27T23:13:42.285472Z",
          "shell.execute_reply": "2021-09-27T23:13:42.284226Z",
          "shell.execute_reply.started": "2021-09-27T23:13:41.375456Z"
        },
        "id": "wnGY4GOKx_Gj"
      },
      "source": [
        "#LOADING MODULES\n",
        "\n",
        "# This Python 3 environment comes with many helpful analytics libraries installed\n",
        "# It is defined by the kaggle/python Docker image: https://github.com/kaggle/docker-python\n",
        "# For example, here's several helpful packages to load\n",
        "\n",
        "import numpy as np # linear algebra\n",
        "import pandas as pd # data processing, CSV file I/O (e.g. pd.read_csv)\n",
        "\n",
        "import seaborn as sns\n",
        "import matplotlib.pyplot as plt\n",
        "sns.set_style(\"whitegrid\")\n",
        "sns.set_palette(\"deep\")\n",
        "\n",
        "# Input data files are available in the read-only \"../input/\" directory\n",
        "# For example, running this (by clicking run or pressing Shift+Enter) will list all files under the input directory\n",
        "\n",
        "import os\n",
        "for dirname, _, filenames in os.walk('/kaggle/input'):\n",
        "    for filename in filenames:\n",
        "        print(os.path.join(dirname, filename))\n",
        "\n",
        "# You can write up to 20GB to the current directory (/kaggle/working/) that gets preserved as output when you create a version using \"Save & Run All\" \n",
        "# You can also write temporary files to /kaggle/temp/, but they won't be saved outside of the current session"
      ],
      "execution_count": 47,
      "outputs": []
    },
    {
      "cell_type": "markdown",
      "metadata": {
        "id": "55Xgstfqx_Gl"
      },
      "source": [
        "Loading datasets\n",
        "reading train and test datasets"
      ]
    },
    {
      "cell_type": "code",
      "metadata": {
        "execution": {
          "iopub.execute_input": "2021-09-27T23:13:42.288030Z",
          "iopub.status.busy": "2021-09-27T23:13:42.287292Z",
          "iopub.status.idle": "2021-09-27T23:13:42.330338Z",
          "shell.execute_reply": "2021-09-27T23:13:42.329675Z",
          "shell.execute_reply.started": "2021-09-27T23:13:42.287981Z"
        },
        "colab": {
          "base_uri": "https://localhost:8080/",
          "height": 255
        },
        "id": "re0aSgTtx_Gl",
        "outputId": "d98e9669-0b04-4bc5-cc94-b3f08bded9e5"
      },
      "source": [
        "train_data = pd.read_csv(\"/train.csv\")\n",
        "train_data.head()"
      ],
      "execution_count": 48,
      "outputs": [
        {
          "output_type": "execute_result",
          "data": {
            "text/html": [
              "<div>\n",
              "<style scoped>\n",
              "    .dataframe tbody tr th:only-of-type {\n",
              "        vertical-align: middle;\n",
              "    }\n",
              "\n",
              "    .dataframe tbody tr th {\n",
              "        vertical-align: top;\n",
              "    }\n",
              "\n",
              "    .dataframe thead th {\n",
              "        text-align: right;\n",
              "    }\n",
              "</style>\n",
              "<table border=\"1\" class=\"dataframe\">\n",
              "  <thead>\n",
              "    <tr style=\"text-align: right;\">\n",
              "      <th></th>\n",
              "      <th>PassengerId</th>\n",
              "      <th>Survived</th>\n",
              "      <th>Pclass</th>\n",
              "      <th>Name</th>\n",
              "      <th>Sex</th>\n",
              "      <th>Age</th>\n",
              "      <th>SibSp</th>\n",
              "      <th>Parch</th>\n",
              "      <th>Ticket</th>\n",
              "      <th>Fare</th>\n",
              "      <th>Cabin</th>\n",
              "      <th>Embarked</th>\n",
              "    </tr>\n",
              "  </thead>\n",
              "  <tbody>\n",
              "    <tr>\n",
              "      <th>0</th>\n",
              "      <td>1</td>\n",
              "      <td>0</td>\n",
              "      <td>3</td>\n",
              "      <td>Braund, Mr. Owen Harris</td>\n",
              "      <td>male</td>\n",
              "      <td>22.0</td>\n",
              "      <td>1</td>\n",
              "      <td>0</td>\n",
              "      <td>A/5 21171</td>\n",
              "      <td>7.2500</td>\n",
              "      <td>NaN</td>\n",
              "      <td>S</td>\n",
              "    </tr>\n",
              "    <tr>\n",
              "      <th>1</th>\n",
              "      <td>2</td>\n",
              "      <td>1</td>\n",
              "      <td>1</td>\n",
              "      <td>Cumings, Mrs. John Bradley (Florence Briggs Th...</td>\n",
              "      <td>female</td>\n",
              "      <td>38.0</td>\n",
              "      <td>1</td>\n",
              "      <td>0</td>\n",
              "      <td>PC 17599</td>\n",
              "      <td>71.2833</td>\n",
              "      <td>C85</td>\n",
              "      <td>C</td>\n",
              "    </tr>\n",
              "    <tr>\n",
              "      <th>2</th>\n",
              "      <td>3</td>\n",
              "      <td>1</td>\n",
              "      <td>3</td>\n",
              "      <td>Heikkinen, Miss. Laina</td>\n",
              "      <td>female</td>\n",
              "      <td>26.0</td>\n",
              "      <td>0</td>\n",
              "      <td>0</td>\n",
              "      <td>STON/O2. 3101282</td>\n",
              "      <td>7.9250</td>\n",
              "      <td>NaN</td>\n",
              "      <td>S</td>\n",
              "    </tr>\n",
              "    <tr>\n",
              "      <th>3</th>\n",
              "      <td>4</td>\n",
              "      <td>1</td>\n",
              "      <td>1</td>\n",
              "      <td>Futrelle, Mrs. Jacques Heath (Lily May Peel)</td>\n",
              "      <td>female</td>\n",
              "      <td>35.0</td>\n",
              "      <td>1</td>\n",
              "      <td>0</td>\n",
              "      <td>113803</td>\n",
              "      <td>53.1000</td>\n",
              "      <td>C123</td>\n",
              "      <td>S</td>\n",
              "    </tr>\n",
              "    <tr>\n",
              "      <th>4</th>\n",
              "      <td>5</td>\n",
              "      <td>0</td>\n",
              "      <td>3</td>\n",
              "      <td>Allen, Mr. William Henry</td>\n",
              "      <td>male</td>\n",
              "      <td>35.0</td>\n",
              "      <td>0</td>\n",
              "      <td>0</td>\n",
              "      <td>373450</td>\n",
              "      <td>8.0500</td>\n",
              "      <td>NaN</td>\n",
              "      <td>S</td>\n",
              "    </tr>\n",
              "  </tbody>\n",
              "</table>\n",
              "</div>"
            ],
            "text/plain": [
              "   PassengerId  Survived  Pclass  ...     Fare Cabin  Embarked\n",
              "0            1         0       3  ...   7.2500   NaN         S\n",
              "1            2         1       1  ...  71.2833   C85         C\n",
              "2            3         1       3  ...   7.9250   NaN         S\n",
              "3            4         1       1  ...  53.1000  C123         S\n",
              "4            5         0       3  ...   8.0500   NaN         S\n",
              "\n",
              "[5 rows x 12 columns]"
            ]
          },
          "metadata": {},
          "execution_count": 48
        }
      ]
    },
    {
      "cell_type": "markdown",
      "metadata": {
        "id": "89rxDfVMx_Gm"
      },
      "source": [
        "Looking into the training dataset\n",
        "Printing first 5 rows of the train dataset."
      ]
    },
    {
      "cell_type": "code",
      "metadata": {
        "execution": {
          "iopub.execute_input": "2021-09-27T23:13:42.332477Z",
          "iopub.status.busy": "2021-09-27T23:13:42.331891Z",
          "iopub.status.idle": "2021-09-27T23:13:42.365309Z",
          "shell.execute_reply": "2021-09-27T23:13:42.364225Z",
          "shell.execute_reply.started": "2021-09-27T23:13:42.332440Z"
        },
        "colab": {
          "base_uri": "https://localhost:8080/",
          "height": 204
        },
        "id": "Q9256t0Jx_Gm",
        "outputId": "ab686d44-f795-4686-ebca-38d03f64055b"
      },
      "source": [
        "test_data = pd.read_csv(\"/test.csv\")\n",
        "test_data.head()"
      ],
      "execution_count": 49,
      "outputs": [
        {
          "output_type": "execute_result",
          "data": {
            "text/html": [
              "<div>\n",
              "<style scoped>\n",
              "    .dataframe tbody tr th:only-of-type {\n",
              "        vertical-align: middle;\n",
              "    }\n",
              "\n",
              "    .dataframe tbody tr th {\n",
              "        vertical-align: top;\n",
              "    }\n",
              "\n",
              "    .dataframe thead th {\n",
              "        text-align: right;\n",
              "    }\n",
              "</style>\n",
              "<table border=\"1\" class=\"dataframe\">\n",
              "  <thead>\n",
              "    <tr style=\"text-align: right;\">\n",
              "      <th></th>\n",
              "      <th>PassengerId</th>\n",
              "      <th>Pclass</th>\n",
              "      <th>Name</th>\n",
              "      <th>Sex</th>\n",
              "      <th>Age</th>\n",
              "      <th>SibSp</th>\n",
              "      <th>Parch</th>\n",
              "      <th>Ticket</th>\n",
              "      <th>Fare</th>\n",
              "      <th>Cabin</th>\n",
              "      <th>Embarked</th>\n",
              "    </tr>\n",
              "  </thead>\n",
              "  <tbody>\n",
              "    <tr>\n",
              "      <th>0</th>\n",
              "      <td>892</td>\n",
              "      <td>3</td>\n",
              "      <td>Kelly, Mr. James</td>\n",
              "      <td>male</td>\n",
              "      <td>34.5</td>\n",
              "      <td>0</td>\n",
              "      <td>0</td>\n",
              "      <td>330911</td>\n",
              "      <td>7.8292</td>\n",
              "      <td>NaN</td>\n",
              "      <td>Q</td>\n",
              "    </tr>\n",
              "    <tr>\n",
              "      <th>1</th>\n",
              "      <td>893</td>\n",
              "      <td>3</td>\n",
              "      <td>Wilkes, Mrs. James (Ellen Needs)</td>\n",
              "      <td>female</td>\n",
              "      <td>47.0</td>\n",
              "      <td>1</td>\n",
              "      <td>0</td>\n",
              "      <td>363272</td>\n",
              "      <td>7.0000</td>\n",
              "      <td>NaN</td>\n",
              "      <td>S</td>\n",
              "    </tr>\n",
              "    <tr>\n",
              "      <th>2</th>\n",
              "      <td>894</td>\n",
              "      <td>2</td>\n",
              "      <td>Myles, Mr. Thomas Francis</td>\n",
              "      <td>male</td>\n",
              "      <td>62.0</td>\n",
              "      <td>0</td>\n",
              "      <td>0</td>\n",
              "      <td>240276</td>\n",
              "      <td>9.6875</td>\n",
              "      <td>NaN</td>\n",
              "      <td>Q</td>\n",
              "    </tr>\n",
              "    <tr>\n",
              "      <th>3</th>\n",
              "      <td>895</td>\n",
              "      <td>3</td>\n",
              "      <td>Wirz, Mr. Albert</td>\n",
              "      <td>male</td>\n",
              "      <td>27.0</td>\n",
              "      <td>0</td>\n",
              "      <td>0</td>\n",
              "      <td>315154</td>\n",
              "      <td>8.6625</td>\n",
              "      <td>NaN</td>\n",
              "      <td>S</td>\n",
              "    </tr>\n",
              "    <tr>\n",
              "      <th>4</th>\n",
              "      <td>896</td>\n",
              "      <td>3</td>\n",
              "      <td>Hirvonen, Mrs. Alexander (Helga E Lindqvist)</td>\n",
              "      <td>female</td>\n",
              "      <td>22.0</td>\n",
              "      <td>1</td>\n",
              "      <td>1</td>\n",
              "      <td>3101298</td>\n",
              "      <td>12.2875</td>\n",
              "      <td>NaN</td>\n",
              "      <td>S</td>\n",
              "    </tr>\n",
              "  </tbody>\n",
              "</table>\n",
              "</div>"
            ],
            "text/plain": [
              "   PassengerId  Pclass  ... Cabin Embarked\n",
              "0          892       3  ...   NaN        Q\n",
              "1          893       3  ...   NaN        S\n",
              "2          894       2  ...   NaN        Q\n",
              "3          895       3  ...   NaN        S\n",
              "4          896       3  ...   NaN        S\n",
              "\n",
              "[5 rows x 11 columns]"
            ]
          },
          "metadata": {},
          "execution_count": 49
        }
      ]
    },
    {
      "cell_type": "markdown",
      "metadata": {
        "id": "PNKh6wI-x_Gm"
      },
      "source": [
        "Below is a brief information about each columns of the dataset:\n",
        "\n",
        "**PassengerId:** An unique index for passenger rows. It starts from 1 for first row and increments by 1 for every new rows.\n",
        "\n",
        "**Survived:** Shows if the passenger survived or not. 1 stands for survived and 0 stands for not survived.\n",
        "\n",
        "**Pclass:** Ticket class. 1 stands for First class ticket. 2 stands for Second class ticket. 3 stands for Third class ticket.\n",
        "\n",
        "**Name:** Passenger's name. Name also contain title. \"Mr\" for man. \"Mrs\" for woman. \"Miss\" for girl. \"Master\" for boy.\n",
        "\n",
        "**Sex:** Passenger's sex. It's either Male or Female.\n",
        "\n",
        "**Age:** Passenger's age. \"NaN\" values in this column indicates that the age of that particular passenger has not been recorded.\n",
        "\n",
        "**SibSp:** Number of siblings or spouses travelling with each passenger.\n",
        "\n",
        "**Parch:** Number of parents of children travelling with each passenger.\n",
        "\n",
        "**Ticket:** Ticket number.\n",
        "\n",
        "**Fare:** How much money the passenger has paid for the travel journey.\n",
        "\n",
        "**Cabin:** Cabin number of the passenger. \"NaN\" values in this column indicates that the cabin number of that particular passenger has not been recorded.\n",
        "\n",
        "**Embarked:** Port from where the particular passenger was embarked/boarded.\n",
        "\n",
        "\n",
        "Total rows and columns\n",
        "\n",
        "We can see that there are 891 rows and 12 columns in our training dataset."
      ]
    },
    {
      "cell_type": "code",
      "metadata": {
        "execution": {
          "iopub.execute_input": "2021-09-27T23:13:42.367739Z",
          "iopub.status.busy": "2021-09-27T23:13:42.367363Z",
          "iopub.status.idle": "2021-09-27T23:13:42.378196Z",
          "shell.execute_reply": "2021-09-27T23:13:42.376980Z",
          "shell.execute_reply.started": "2021-09-27T23:13:42.367675Z"
        },
        "id": "A6cqNiAqx_Gn"
      },
      "source": [
        "submission = pd.read_csv(\"/gender_submission.csv\")"
      ],
      "execution_count": 50,
      "outputs": []
    },
    {
      "cell_type": "code",
      "metadata": {
        "execution": {
          "iopub.execute_input": "2021-09-27T23:13:42.380191Z",
          "iopub.status.busy": "2021-09-27T23:13:42.379911Z",
          "iopub.status.idle": "2021-09-27T23:13:42.394225Z",
          "shell.execute_reply": "2021-09-27T23:13:42.392915Z",
          "shell.execute_reply.started": "2021-09-27T23:13:42.380161Z"
        },
        "colab": {
          "base_uri": "https://localhost:8080/"
        },
        "id": "jv7oaIeLx_Gn",
        "outputId": "f5bd8814-4555-4c20-bc3b-b4299a3c4524"
      },
      "source": [
        "women = train_data.loc[train_data.Sex == 'female'][\"Survived\"]\n",
        "rate_women = sum(women)/len(women)\n",
        "\n",
        "print(\"% of women who survived:\", rate_women)"
      ],
      "execution_count": 51,
      "outputs": [
        {
          "output_type": "stream",
          "name": "stdout",
          "text": [
            "% of women who survived: 0.7420382165605095\n"
          ]
        }
      ]
    },
    {
      "cell_type": "code",
      "metadata": {
        "execution": {
          "iopub.execute_input": "2021-09-27T23:13:42.395946Z",
          "iopub.status.busy": "2021-09-27T23:13:42.395548Z",
          "iopub.status.idle": "2021-09-27T23:13:42.404957Z",
          "shell.execute_reply": "2021-09-27T23:13:42.403527Z",
          "shell.execute_reply.started": "2021-09-27T23:13:42.395911Z"
        },
        "colab": {
          "base_uri": "https://localhost:8080/"
        },
        "id": "KbkI6w1px_Gn",
        "outputId": "56c041fe-1c8b-4ae0-b2a2-7087b0d13736"
      },
      "source": [
        "men = train_data.loc[train_data.Sex == 'male'][\"Survived\"]\n",
        "rate_men = sum(men)/len(men)\n",
        "\n",
        "print(\"% of men who survived:\", rate_men)"
      ],
      "execution_count": 52,
      "outputs": [
        {
          "output_type": "stream",
          "name": "stdout",
          "text": [
            "% of men who survived: 0.18890814558058924\n"
          ]
        }
      ]
    },
    {
      "cell_type": "code",
      "metadata": {
        "execution": {
          "iopub.execute_input": "2021-09-27T23:13:42.406804Z",
          "iopub.status.busy": "2021-09-27T23:13:42.406523Z",
          "iopub.status.idle": "2021-09-27T23:13:43.010021Z",
          "shell.execute_reply": "2021-09-27T23:13:43.008617Z",
          "shell.execute_reply.started": "2021-09-27T23:13:42.406771Z"
        },
        "colab": {
          "base_uri": "https://localhost:8080/"
        },
        "id": "RfwDOqNIx_Gn",
        "outputId": "da0d187b-e33b-4c48-a506-dab0bf97f8f9"
      },
      "source": [
        "from sklearn.ensemble import RandomForestClassifier\n",
        "\n",
        "y = train_data[\"Survived\"]\n",
        "\n",
        "features = [\"Pclass\", \"Sex\", \"SibSp\", \"Parch\"]\n",
        "X = pd.get_dummies(train_data[features])\n",
        "X_test = pd.get_dummies(test_data[features])\n",
        "\n",
        "model = RandomForestClassifier(n_estimators=100, max_depth=5, random_state=1)\n",
        "model.fit(X, y)\n",
        "predictions = model.predict(X_test)\n",
        "\n",
        "output = pd.DataFrame({'PassengerId': test_data.PassengerId, 'Survived': predictions})\n",
        "output.to_csv('submission.csv', index=False)\n",
        "print(\"Your submission was successfully saved!\")"
      ],
      "execution_count": 53,
      "outputs": [
        {
          "output_type": "stream",
          "name": "stdout",
          "text": [
            "Your submission was successfully saved!\n"
          ]
        }
      ]
    },
    {
      "cell_type": "code",
      "metadata": {
        "execution": {
          "iopub.execute_input": "2021-09-27T23:13:43.011685Z",
          "iopub.status.busy": "2021-09-27T23:13:43.011414Z",
          "iopub.status.idle": "2021-09-27T23:13:43.028907Z",
          "shell.execute_reply": "2021-09-27T23:13:43.027604Z",
          "shell.execute_reply.started": "2021-09-27T23:13:43.011655Z"
        },
        "colab": {
          "base_uri": "https://localhost:8080/"
        },
        "id": "Bzt9EGTVx_Gn",
        "outputId": "930b6306-fe3b-4202-99b9-73666d5e241b"
      },
      "source": [
        "train_data.info() "
      ],
      "execution_count": 54,
      "outputs": [
        {
          "output_type": "stream",
          "name": "stdout",
          "text": [
            "<class 'pandas.core.frame.DataFrame'>\n",
            "RangeIndex: 891 entries, 0 to 890\n",
            "Data columns (total 12 columns):\n",
            " #   Column       Non-Null Count  Dtype  \n",
            "---  ------       --------------  -----  \n",
            " 0   PassengerId  891 non-null    int64  \n",
            " 1   Survived     891 non-null    int64  \n",
            " 2   Pclass       891 non-null    int64  \n",
            " 3   Name         891 non-null    object \n",
            " 4   Sex          891 non-null    object \n",
            " 5   Age          714 non-null    float64\n",
            " 6   SibSp        891 non-null    int64  \n",
            " 7   Parch        891 non-null    int64  \n",
            " 8   Ticket       891 non-null    object \n",
            " 9   Fare         891 non-null    float64\n",
            " 10  Cabin        204 non-null    object \n",
            " 11  Embarked     889 non-null    object \n",
            "dtypes: float64(2), int64(5), object(5)\n",
            "memory usage: 83.7+ KB\n"
          ]
        }
      ]
    },
    {
      "cell_type": "code",
      "metadata": {
        "execution": {
          "iopub.execute_input": "2021-09-27T23:13:43.030825Z",
          "iopub.status.busy": "2021-09-27T23:13:43.030508Z",
          "iopub.status.idle": "2021-09-27T23:13:44.613978Z",
          "shell.execute_reply": "2021-09-27T23:13:44.613190Z",
          "shell.execute_reply.started": "2021-09-27T23:13:43.030783Z"
        },
        "colab": {
          "base_uri": "https://localhost:8080/",
          "height": 617
        },
        "id": "B_Nr2sAWx_Go",
        "outputId": "aa2987e2-c898-4293-cdc8-a2d89775e226"
      },
      "source": [
        "tmp = train_data.drop(columns=\"Cabin\").drop(index=train_data.loc[train_data[\"Embarked\"].isna()].index) # i delete the uninsightful columns and indices temporarily\n",
        "mean_tmp = tmp[[\"Pclass\", \"Sex\", \"Survived\"]].groupby([\"Pclass\", \"Sex\"], as_index=False).mean()\n",
        "\n",
        "#fig = plt.figure(figsize=(10, 15))\n",
        "\n",
        "subfig = fig.subplots(2, 1)\n",
        "\n",
        "g1 = sns.FacetGrid(mean_tmp, col=\"Pclass\", aspect=1, height=4)\n",
        "g1.map(sns.barplot, \"Sex\", \"Survived\", order=[\"male\", \"female\"])\n",
        "\n",
        "g2 = sns.FacetGrid(tmp, col=\"Pclass\", aspect=1, height=4)\n",
        "g2.map(sns.countplot, \"Sex\", order=[\"male\", \"female\"])\n",
        "\n",
        "subfig[0] = g1.figure\n",
        "subfig[0].suptitle(\"Count and Ratio of Survivers\", y=1.1, fontsize=16)\n",
        "subfig[1] = g2.figure"
      ],
      "execution_count": 55,
      "outputs": [
        {
          "output_type": "display_data",
          "data": {
            "image/png": "[encoded data removed]",
            "text/plain": [
              "<Figure size 864x288 with 3 Axes>"
            ]
          },
          "metadata": {}
        },
        {
          "output_type": "display_data",
          "data": {
            "image/png": "[encoded data removed]",
            "text/plain": [
              "<Figure size 864x288 with 3 Axes>"
            ]
          },
          "metadata": {}
        }
      ]
    },
    {
      "cell_type": "markdown",
      "metadata": {
        "id": "OoCf7gZ5x_Go"
      },
      "source": [
        "There is a strong correlation between the passengerclass, the sex and the rate of survival. In the following we will look at the correlation between the age and survival rate."
      ]
    },
    {
      "cell_type": "code",
      "metadata": {
        "execution": {
          "iopub.execute_input": "2021-09-27T23:13:44.617606Z",
          "iopub.status.busy": "2021-09-27T23:13:44.616729Z",
          "iopub.status.idle": "2021-09-27T23:13:45.290450Z",
          "shell.execute_reply": "2021-09-27T23:13:45.289520Z",
          "shell.execute_reply.started": "2021-09-27T23:13:44.617569Z"
        },
        "colab": {
          "base_uri": "https://localhost:8080/",
          "height": 539
        },
        "id": "mc1zUB9dx_Go",
        "outputId": "94ece4a9-eb9d-42b2-84e8-4474828cd404"
      },
      "source": [
        "tmp = train_data.drop(columns=\"Cabin\").drop(index=train_data.loc[train_data[\"Embarked\"].isna()].index) # i delete the uninsightful columns and indices temporarily\n",
        "\n",
        "fig, (ax1, ax2) =plt.subplots(2, 1, figsize=(20,10))\n",
        "\n",
        "sns.kdeplot(data=tmp, x=\"Age\", shade=True, hue=\"Sex\", ax=ax1)\n",
        "sns.kdeplot(data=tmp, x=\"Age\", shade=True, hue=\"Survived\", ax=ax2)"
      ],
      "execution_count": 56,
      "outputs": [
        {
          "output_type": "execute_result",
          "data": {
            "text/plain": [
              "<matplotlib.axes._subplots.AxesSubplot at 0x7f4b6ec04ad0>"
            ]
          },
          "metadata": {},
          "execution_count": 56
        },
        {
          "output_type": "display_data",
          "data": {
            "image/png": "[encoded data removed]",
            "text/plain": [
              "<Figure size 1440x720 with 2 Axes>"
            ]
          },
          "metadata": {}
        }
      ]
    },
    {
      "cell_type": "markdown",
      "metadata": {
        "id": "IziqjvR9x_Go"
      },
      "source": [
        "These plots show, that children are much more likely to survive than middle-aged people. The first plot is just for basic visualization of the age distribtion on the titanic."
      ]
    },
    {
      "cell_type": "code",
      "metadata": {
        "execution": {
          "iopub.execute_input": "2021-09-27T23:13:45.291841Z",
          "iopub.status.busy": "2021-09-27T23:13:45.291605Z",
          "iopub.status.idle": "2021-09-27T23:13:46.333879Z",
          "shell.execute_reply": "2021-09-27T23:13:46.332288Z",
          "shell.execute_reply.started": "2021-09-27T23:13:45.291814Z"
        },
        "colab": {
          "base_uri": "https://localhost:8080/",
          "height": 193
        },
        "id": "uO6J0q8Hx_Go",
        "outputId": "d06e6b29-650a-4eb2-d4ce-319e2d803171"
      },
      "source": [
        "tmp_mean = tmp[[\"Sex\", \"Age\", \"Survived\"]].groupby([\"Age\", \"Sex\"], as_index=False).mean()\n",
        "sns.lmplot(data=tmp_mean, x=\"Age\", y=\"Survived\", hue=\"Sex\", aspect=6, height=4)"
      ],
      "execution_count": 57,
      "outputs": [
        {
          "output_type": "execute_result",
          "data": {
            "text/plain": [
              "<seaborn.axisgrid.FacetGrid at 0x7f4b6f4bd410>"
            ]
          },
          "metadata": {},
          "execution_count": 57
        },
        {
          "output_type": "display_data",
          "data": {
            "image/png": "[encoded data removed]",
            "text/plain": [
              "<Figure size 1798.5x288 with 1 Axes>"
            ]
          },
          "metadata": {}
        }
      ]
    },
    {
      "cell_type": "markdown",
      "metadata": {
        "id": "Y8b81WTMx_Go"
      },
      "source": [
        "The last plot shows a linear correlation between age, sex and probability of survival. As you can see, not only were women much more likely to survive but the age didn't play as big of a role as for male passengers.\n",
        "\n",
        "As you can see, the Cabin attribute is too incomplete as to being useful. Which is unfortunate, because the attribute might have given some insight. One possibility would be to transform the cabins into areas and then derive the area from the ticket price for the missing values. And I could look at surnames of the passengers to find the missing Embarked values. But I decided not to bother. The missing values in Age can be easily replaced by the sklearn SimpleImputer class with strategy=\"median\". The PassengerID doesn't have any meaning too. And some Columns are dropped for simplicity. Sex is converted to a binary numeric attribute."
      ]
    },
    {
      "cell_type": "code",
      "metadata": {
        "execution": {
          "iopub.execute_input": "2021-09-27T23:13:46.336839Z",
          "iopub.status.busy": "2021-09-27T23:13:46.335594Z",
          "iopub.status.idle": "2021-09-27T23:13:46.396622Z",
          "shell.execute_reply": "2021-09-27T23:13:46.395383Z",
          "shell.execute_reply.started": "2021-09-27T23:13:46.336768Z"
        },
        "colab": {
          "base_uri": "https://localhost:8080/"
        },
        "id": "ca32uhl0x_Go",
        "outputId": "0e1b3823-ae70-4416-efed-f92c3ae77439"
      },
      "source": [
        "from sklearn.impute import SimpleImputer\n",
        "from sklearn.pipeline import Pipeline\n",
        "from sklearn.base import TransformerMixin, BaseEstimator\n",
        "from sklearn.compose import ColumnTransformer\n",
        "from sklearn.preprocessing import OneHotEncoder, OrdinalEncoder\n",
        "from sklearn.linear_model import LinearRegression\n",
        "\n",
        "drop_labels = [\"PassengerId\", \"Cabin\", \"Ticket\", \"Name\"]\n",
        "class FullPrep(TransformerMixin, BaseEstimator):\n",
        "    def __init__(self):\n",
        "        pass\n",
        "    \n",
        "    def fit(self, X, y=None):\n",
        "        return self\n",
        "    \n",
        "    def transform(self, X, y=None):\n",
        "        return X.drop(columns=drop_labels)\n",
        "\n",
        "drop_na_labels = list(train_data) # I know that this isn't nececary\n",
        "num_labels = [\"Pclass\", \"Age\", \"SibSp\", \"Parch\", \"Fare\"]\n",
        "\n",
        "num_pipeline = Pipeline([\n",
        "    (\"imputer\", SimpleImputer(strategy=\"median\"))\n",
        "])\n",
        "\n",
        "embarked_pipeline = Pipeline([\n",
        "    (\"imputer\", SimpleImputer(strategy=\"most_frequent\")),\n",
        "    (\"cat_enc\", OneHotEncoder())\n",
        "])\n",
        "\n",
        "column_t = ColumnTransformer([\n",
        "    (\"num\", num_pipeline, num_labels),\n",
        "    (\"embarked\", embarked_pipeline, [\"Embarked\"]),\n",
        "    (\"sex\", OrdinalEncoder(), [\"Sex\"])\n",
        "])\n",
        "\n",
        "full_pipeline = Pipeline([\n",
        "    (\"dropna\", FullPrep()),\n",
        "    (\"columns\", column_t),\n",
        "])\n",
        "\n",
        "train_X, test_X = full_pipeline.fit_transform(train_data.drop(columns=\"Survived\")), full_pipeline.fit_transform(test_data)\n",
        "train_y = train_data[\"Survived\"]\n",
        "train_X[0], train_y[0]"
      ],
      "execution_count": 58,
      "outputs": [
        {
          "output_type": "execute_result",
          "data": {
            "text/plain": [
              "(array([ 3.  , 22.  ,  1.  ,  0.  ,  7.25,  0.  ,  0.  ,  1.  ,  1.  ]), 0)"
            ]
          },
          "metadata": {},
          "execution_count": 58
        }
      ]
    },
    {
      "cell_type": "markdown",
      "metadata": {
        "id": "1XF3NYMex_Gp"
      },
      "source": [
        "First I tried LinearRegression but then I noticed that I need a classifier."
      ]
    },
    {
      "cell_type": "code",
      "metadata": {
        "execution": {
          "iopub.execute_input": "2021-09-27T23:13:46.398738Z",
          "iopub.status.busy": "2021-09-27T23:13:46.398261Z",
          "iopub.status.idle": "2021-09-27T23:13:46.434229Z",
          "shell.execute_reply": "2021-09-27T23:13:46.433340Z",
          "shell.execute_reply.started": "2021-09-27T23:13:46.398689Z"
        },
        "colab": {
          "base_uri": "https://localhost:8080/"
        },
        "id": "INkS3YxUx_Gp",
        "outputId": "83c29e20-e172-4b5f-cc16-33cf68531092"
      },
      "source": [
        "from sklearn.model_selection import cross_val_score\n",
        "\n",
        "lin_reg = LinearRegression()\n",
        "result = cross_val_score(lin_reg, train_X, train_y, cv=10)\n",
        "result.mean()"
      ],
      "execution_count": 59,
      "outputs": [
        {
          "output_type": "execute_result",
          "data": {
            "text/plain": [
              "0.36296337552336555"
            ]
          },
          "metadata": {},
          "execution_count": 59
        }
      ]
    },
    {
      "cell_type": "markdown",
      "metadata": {
        "id": "a9x8O3gBn4-c"
      },
      "source": [
        "Using \"Random Forest Classifier here\""
      ]
    },
    {
      "cell_type": "code",
      "metadata": {
        "execution": {
          "iopub.execute_input": "2021-09-27T23:13:46.437343Z",
          "iopub.status.busy": "2021-09-27T23:13:46.437029Z",
          "iopub.status.idle": "2021-09-27T23:13:48.996300Z",
          "shell.execute_reply": "2021-09-27T23:13:48.995453Z",
          "shell.execute_reply.started": "2021-09-27T23:13:46.437309Z"
        },
        "colab": {
          "base_uri": "https://localhost:8080/"
        },
        "id": "tiU9d5rpx_Gp",
        "outputId": "6e66924f-2687-4491-eafd-6ed5094b582b"
      },
      "source": [
        "from sklearn.ensemble import RandomForestClassifier\n",
        "\n",
        "reg = RandomForestClassifier(n_estimators=100)\n",
        "score = cross_val_score(reg, train_X, train_y, cv=10)\n",
        "score.mean()"
      ],
      "execution_count": 60,
      "outputs": [
        {
          "output_type": "execute_result",
          "data": {
            "text/plain": [
              "0.8126716604244694"
            ]
          },
          "metadata": {},
          "execution_count": 60
        }
      ]
    },
    {
      "cell_type": "markdown",
      "metadata": {
        "id": "1hndwBlPx_Gp"
      },
      "source": [
        "Obviously the classifier works much better. At this point I could test some other models, but not for now. Therefore final submission:"
      ]
    },
    {
      "cell_type": "code",
      "metadata": {
        "execution": {
          "iopub.execute_input": "2021-09-27T23:13:48.997842Z",
          "iopub.status.busy": "2021-09-27T23:13:48.997595Z",
          "iopub.status.idle": "2021-09-27T23:13:49.253524Z",
          "shell.execute_reply": "2021-09-27T23:13:49.252481Z",
          "shell.execute_reply.started": "2021-09-27T23:13:48.997815Z"
        },
        "colab": {
          "base_uri": "https://localhost:8080/"
        },
        "id": "Fve0b-4Bx_Gp",
        "outputId": "af7e0ab8-ae7d-42dd-8363-6cfd81ccb49c"
      },
      "source": [
        "# Final training\n",
        "reg.fit(train_X, train_y)"
      ],
      "execution_count": 61,
      "outputs": [
        {
          "output_type": "execute_result",
          "data": {
            "text/plain": [
              "RandomForestClassifier(bootstrap=True, ccp_alpha=0.0, class_weight=None,\n",
              "                       criterion='gini', max_depth=None, max_features='auto',\n",
              "                       max_leaf_nodes=None, max_samples=None,\n",
              "                       min_impurity_decrease=0.0, min_impurity_split=None,\n",
              "                       min_samples_leaf=1, min_samples_split=2,\n",
              "                       min_weight_fraction_leaf=0.0, n_estimators=100,\n",
              "                       n_jobs=None, oob_score=False, random_state=None,\n",
              "                       verbose=0, warm_start=False)"
            ]
          },
          "metadata": {},
          "execution_count": 61
        }
      ]
    },
    {
      "cell_type": "code",
      "metadata": {
        "execution": {
          "iopub.execute_input": "2021-09-27T23:13:49.255326Z",
          "iopub.status.busy": "2021-09-27T23:13:49.255096Z",
          "iopub.status.idle": "2021-09-27T23:13:49.287798Z",
          "shell.execute_reply": "2021-09-27T23:13:49.286732Z",
          "shell.execute_reply.started": "2021-09-27T23:13:49.255302Z"
        },
        "colab": {
          "base_uri": "https://localhost:8080/",
          "height": 419
        },
        "id": "cIqfnJ2ux_Gp",
        "outputId": "6db5fcc9-b635-4489-b288-f6b7ea014753"
      },
      "source": [
        "submission = pd.DataFrame({\n",
        "    \"PassengerId\": test_data[\"PassengerId\"],\n",
        "    \"Survived\": reg.predict(test_X)\n",
        "})\n",
        "submission"
      ],
      "execution_count": 62,
      "outputs": [
        {
          "output_type": "execute_result",
          "data": {
            "text/html": [
              "<div>\n",
              "<style scoped>\n",
              "    .dataframe tbody tr th:only-of-type {\n",
              "        vertical-align: middle;\n",
              "    }\n",
              "\n",
              "    .dataframe tbody tr th {\n",
              "        vertical-align: top;\n",
              "    }\n",
              "\n",
              "    .dataframe thead th {\n",
              "        text-align: right;\n",
              "    }\n",
              "</style>\n",
              "<table border=\"1\" class=\"dataframe\">\n",
              "  <thead>\n",
              "    <tr style=\"text-align: right;\">\n",
              "      <th></th>\n",
              "      <th>PassengerId</th>\n",
              "      <th>Survived</th>\n",
              "    </tr>\n",
              "  </thead>\n",
              "  <tbody>\n",
              "    <tr>\n",
              "      <th>0</th>\n",
              "      <td>892</td>\n",
              "      <td>0</td>\n",
              "    </tr>\n",
              "    <tr>\n",
              "      <th>1</th>\n",
              "      <td>893</td>\n",
              "      <td>0</td>\n",
              "    </tr>\n",
              "    <tr>\n",
              "      <th>2</th>\n",
              "      <td>894</td>\n",
              "      <td>0</td>\n",
              "    </tr>\n",
              "    <tr>\n",
              "      <th>3</th>\n",
              "      <td>895</td>\n",
              "      <td>1</td>\n",
              "    </tr>\n",
              "    <tr>\n",
              "      <th>4</th>\n",
              "      <td>896</td>\n",
              "      <td>0</td>\n",
              "    </tr>\n",
              "    <tr>\n",
              "      <th>...</th>\n",
              "      <td>...</td>\n",
              "      <td>...</td>\n",
              "    </tr>\n",
              "    <tr>\n",
              "      <th>413</th>\n",
              "      <td>1305</td>\n",
              "      <td>0</td>\n",
              "    </tr>\n",
              "    <tr>\n",
              "      <th>414</th>\n",
              "      <td>1306</td>\n",
              "      <td>1</td>\n",
              "    </tr>\n",
              "    <tr>\n",
              "      <th>415</th>\n",
              "      <td>1307</td>\n",
              "      <td>0</td>\n",
              "    </tr>\n",
              "    <tr>\n",
              "      <th>416</th>\n",
              "      <td>1308</td>\n",
              "      <td>0</td>\n",
              "    </tr>\n",
              "    <tr>\n",
              "      <th>417</th>\n",
              "      <td>1309</td>\n",
              "      <td>1</td>\n",
              "    </tr>\n",
              "  </tbody>\n",
              "</table>\n",
              "<p>418 rows × 2 columns</p>\n",
              "</div>"
            ],
            "text/plain": [
              "     PassengerId  Survived\n",
              "0            892         0\n",
              "1            893         0\n",
              "2            894         0\n",
              "3            895         1\n",
              "4            896         0\n",
              "..           ...       ...\n",
              "413         1305         0\n",
              "414         1306         1\n",
              "415         1307         0\n",
              "416         1308         0\n",
              "417         1309         1\n",
              "\n",
              "[418 rows x 2 columns]"
            ]
          },
          "metadata": {},
          "execution_count": 62
        }
      ]
    },
    {
      "cell_type": "markdown",
      "metadata": {
        "id": "nDE7-OtmlzvD"
      },
      "source": [
        "It's time to create a submission.csv file to upload to the Kaggle competition!"
      ]
    },
    {
      "cell_type": "code",
      "metadata": {
        "execution": {
          "iopub.execute_input": "2021-09-27T23:13:49.290496Z",
          "iopub.status.busy": "2021-09-27T23:13:49.289497Z",
          "iopub.status.idle": "2021-09-27T23:13:49.298463Z",
          "shell.execute_reply": "2021-09-27T23:13:49.297346Z",
          "shell.execute_reply.started": "2021-09-27T23:13:49.290441Z"
        },
        "id": "3Qj_7pOZx_Gq"
      },
      "source": [
        "submission.to_csv(\"submission.csv\", index=False)"
      ],
      "execution_count": 63,
      "outputs": []
    }
  ]
}